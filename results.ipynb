{
 "cells": [
  {
   "cell_type": "code",
   "execution_count": null,
   "id": "644675d8",
   "metadata": {},
   "outputs": [],
   "source": [
    "from llm_classifier import LLM_classifier"
   ]
  },
  {
   "cell_type": "code",
   "execution_count": null,
   "id": "a7b10832",
   "metadata": {},
   "outputs": [],
   "source": [
    "classifier = LLM_classifier(\"mistralai/Mistral-7B-Instruct-v0.2\", \"ronunes/anacreontea\")"
   ]
  },
  {
   "cell_type": "code",
   "execution_count": null,
   "id": "1074680c-68a1-4121-a210-4b171959d841",
   "metadata": {},
   "outputs": [],
   "source": [
    "def clean(text, query):\n",
    "    punc = '''!()[]{};:'\"\\,<>./?@#$%^&*_~'''\n",
    "    \n",
    "    text = text.replace(\"\\n\", \"\")\n",
    "    text = text.replace(query, \"\")\n",
    "                        \n",
    "    for ele in text:\n",
    "        if ele in punc:\n",
    "            text = text.replace(ele, \"\")\n",
    "            \n",
    "    return text\n",
    "\n",
    "def find_conclusion(text, query):\n",
    "    lines = text.split('\\n')\n",
    "    conclusion_text = \"\"\n",
    "\n",
    "    for line in lines:\n",
    "        if line.startswith(query):\n",
    "            conclusion_text= line\n",
    "            break\n",
    "\n",
    "    return conclusion_text"
   ]
  },
  {
   "cell_type": "code",
   "execution_count": null,
   "id": "e394f25b-823d-43e2-85cf-a8ab6c0b1f53",
   "metadata": {},
   "outputs": [],
   "source": [
    "def generate_prompt(sentence: str, use_definitions: bool, type: str) -> str:\n",
    "    persona = \"\"\"Persona:\n",
    "Você é um pesquisador especialista em literatura grega antiga com foco nos textos do corpus das anacreônticas.\n",
    "\n",
    "Instrução:\n",
    "Faça sua escolha baseado no que melhor representa a temática do texto. Utilize o nome da mesma forma que está no contexto.\n",
    "\"\"\"\n",
    "\n",
    "    labels = classifier.labels_topos\n",
    "    definitions = classifier.definitions_topos\n",
    "    \n",
    "    context = \"\"\n",
    "    \n",
    "    if use_definitions:           \n",
    "        context = f\"\"\"\n",
    "Nome de cada {type} e seu contexto:\n",
    "{classifier.get_definitions(labels, definitions)}\n",
    "\"\"\"\n",
    "    else:\n",
    "        context = f\"\"\"\n",
    "Lista contextual de cada {type} possível: {classifier.list_to_string_with_quotes(labels)}\n",
    "\"\"\"\n",
    "\n",
    "    anacreontic = f'''\n",
    "Anacreôntica:\n",
    "\"\"\"\n",
    "{sentence}\n",
    "\"\"\"\n",
    "'''\n",
    "\n",
    "    question = f\"\"\"\n",
    "Pergunta: Por favor, me informe qual {type} está presente nesta anacreôntica e qual é o mais representativo. \n",
    "Resposta: Vamos pensar passo a passo.\"\"\"\n",
    "\n",
    "    prompt = (\"\\n\").join([persona, context, anacreontic, question])\n",
    "    \n",
    "    return prompt"
   ]
  },
  {
   "cell_type": "code",
   "execution_count": null,
   "id": "351739d5-df95-400e-b59e-edd9a4a8ae69",
   "metadata": {},
   "outputs": [],
   "source": [
    "def generate(input_text, max_new_tokens):\n",
    "    inputs = classifier.LLM_tokenizer(input_text, return_tensors=\"pt\")\n",
    "    inputs = inputs.to('cuda')\n",
    "    \n",
    "    outputs = classifier.LLM_model.generate(**inputs, max_new_tokens=max_new_tokens, pad_token_id=classifier.LLM_model.config.eos_token_id, output_scores=True, return_dict_in_generate=True)\n",
    "    resp = classifier.LLM_tokenizer.decode(outputs.sequences[0], skip_special_tokens=True)\n",
    "\n",
    "    return resp"
   ]
  },
  {
   "cell_type": "code",
   "execution_count": null,
   "id": "a305664a-713c-42e5-b18e-13203f6e555f",
   "metadata": {},
   "outputs": [],
   "source": [
    "topos_list = []\n",
    "topos_prompt_list = []\n",
    "\n",
    "for idx, sentence in enumerate(classifier.dataset[\"train\"][\"portuguese_text\"]):\n",
    "    input_text = generate_prompt(sentence, False, \"topos\")\n",
    "    resp = generate(input_text, 800)\n",
    "    \n",
    "    resp_final = f\"\"\"{resp}\n",
    "Nome do tópos representativo:\"\"\"\n",
    "    \n",
    "    resp_final = generate(resp_final, 40)\n",
    "    \n",
    "    result = find_conclusion(resp_final, \"Nome do tópos representativo: \")\n",
    "    result = clean(result, \"Nome do tópos representativo: \")\n",
    "    \n",
    "    topos_list.append(result)\n",
    "    topos_prompt_list.append(resp_final)\n",
    "    \n",
    "    print(idx, result)"
   ]
  },
  {
   "cell_type": "code",
   "execution_count": null,
   "id": "b8655d87-3bbc-4145-bc70-9ce3274720da",
   "metadata": {},
   "outputs": [],
   "source": [
    "from sklearn.metrics import classification_report"
   ]
  },
  {
   "cell_type": "code",
   "execution_count": null,
   "id": "73291aed-07a2-4ddd-b9a3-47cbdca497be",
   "metadata": {},
   "outputs": [],
   "source": [
    "print(classification_report(classifier.dataset[\"train\"][\"topos\"], topos_list))"
   ]
  }
 ],
 "metadata": {
  "kernelspec": {
   "display_name": "Python 3 (ipykernel)",
   "language": "python",
   "name": "python3"
  },
  "language_info": {
   "codemirror_mode": {
    "name": "ipython",
    "version": 3
   },
   "file_extension": ".py",
   "mimetype": "text/x-python",
   "name": "python",
   "nbconvert_exporter": "python",
   "pygments_lexer": "ipython3",
   "version": "3.11.7"
  }
 },
 "nbformat": 4,
 "nbformat_minor": 5
}
